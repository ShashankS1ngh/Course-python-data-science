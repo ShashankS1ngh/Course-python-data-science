{
  "nbformat": 4,
  "nbformat_minor": 0,
  "metadata": {
    "colab": {
      "name": "India-Diabetic.ipynb",
      "provenance": [],
      "authorship_tag": "ABX9TyPBf+7ZG23B00rXayExo+PP",
      "include_colab_link": true
    },
    "kernelspec": {
      "name": "python3",
      "display_name": "Python 3"
    }
  },
  "cells": [
    {
      "cell_type": "markdown",
      "metadata": {
        "id": "view-in-github",
        "colab_type": "text"
      },
      "source": [
        "<a href=\"https://colab.research.google.com/github/ShashankS1ngh/python-data-science/blob/master/India_Diabetic.ipynb\" target=\"_parent\"><img src=\"https://colab.research.google.com/assets/colab-badge.svg\" alt=\"Open In Colab\"/></a>"
      ]
    },
    {
      "cell_type": "code",
      "metadata": {
        "id": "abpvY4oXuw-g"
      },
      "source": [
        "import csv\r\n",
        "import math\r\n",
        "import random\r\n",
        "def loadCsv(filename):\r\n",
        "  lines=csv.reader(open(r'C:\\Users\\shashank singh\\Desktop\\diabetes.csv'))\r\n",
        "  dataset=list(lines)\r\n",
        "  for i in range(len(dataset)):\r\n",
        "    dataset[i]=[float(x) for x in dataset[i]]\r\n",
        "  return dataset  "
      ],
      "execution_count": 20,
      "outputs": []
    },
    {
      "cell_type": "code",
      "metadata": {
        "id": "JZnJ3uGV5XaO"
      },
      "source": [
        "def splitDataset(dataset,splitRatio):\r\n",
        "  trainSize=int(len(dataset)*splitRatio)\r\n",
        "  trainSet=[]\r\n",
        "  copy=list(dataset)\r\n",
        "  while len(trainSet)<trainSize:\r\n",
        "    index=random.randrange(len(copy))\r\n",
        "    trainSet.append(copy.pop(index))\r\n",
        "  return[trainSet,copy]  "
      ],
      "execution_count": 3,
      "outputs": []
    },
    {
      "cell_type": "code",
      "metadata": {
        "id": "jEUhdYf_8_19"
      },
      "source": [
        "def seperateByClass(dataset):\r\n",
        "  separated={}\r\n",
        "  for i in range(len(dataset)):\r\n",
        "    vector=dataset[i]\r\n",
        "    if(vector[-1] not in separated):\r\n",
        "      separated[vector[-i]]=[]\r\n",
        "    separated[vector[-1]].append(vector)\r\n",
        "  return separated    "
      ],
      "execution_count": 4,
      "outputs": []
    },
    {
      "cell_type": "code",
      "metadata": {
        "id": "Pw-208tN9z5A"
      },
      "source": [
        "def mean(numbers):\r\n",
        "  return sum(numbers)/float(len(numbers))"
      ],
      "execution_count": 5,
      "outputs": []
    },
    {
      "cell_type": "code",
      "metadata": {
        "id": "xPVxlIIE-a4_"
      },
      "source": [
        "def stdv(numbers):\r\n",
        "  avg=mean(numbers)\r\n",
        "  variance=sum([pow(x-avg,2) for x in numbers])/float(len(numbers-1))\r\n",
        "  return math.sqrt(variance)"
      ],
      "execution_count": 7,
      "outputs": []
    },
    {
      "cell_type": "code",
      "metadata": {
        "id": "zsUkcqjMAIzU"
      },
      "source": [
        "def sumarize(dataset):\r\n",
        "  sumaries=[(mean(attribute),stdv(attribute)) for attribute in zip(*dataset)]\r\n",
        "  del sumaries[-1]\r\n",
        "  return sumaries"
      ],
      "execution_count": 9,
      "outputs": []
    },
    {
      "cell_type": "code",
      "metadata": {
        "id": "BEhESXDa_Pi7"
      },
      "source": [
        "def sumarizeByClass(dataset):\r\n",
        "  separated = separateByClass(dataset)\r\n",
        "  sumaries={}\r\n",
        "  for classValue,instances in separated.items():\r\n",
        "    sumaries[classValue]=sumarize(instances)\r\n",
        "  return sumaries  "
      ],
      "execution_count": 22,
      "outputs": []
    },
    {
      "cell_type": "code",
      "metadata": {
        "id": "oSqBI2KOAouJ"
      },
      "source": [
        "def calculateProbability(x,mean,stdv):\r\n",
        "  exponent=math.exp(-(math.pow(x-mean,2)/(2*math.pow(stdv,2))))\r\n",
        "  return (1/(math.sqrt(2*math.pi)*stdv))*exponent"
      ],
      "execution_count": 11,
      "outputs": []
    },
    {
      "cell_type": "code",
      "metadata": {
        "id": "YTOuACE-BlCt"
      },
      "source": [
        "def calculateClassProbabilities(sumaries,inputVector):\r\n",
        "  probabilities={}\r\n",
        "  for classValue,classSumaries in sumaries.items():\r\n",
        "    probabilities[classValue]=1\r\n",
        "    for i in range(len(classSumaries)):\r\n",
        "      mean,stdv=classSumaries[i]\r\n",
        "      x=inputVector[i]\r\n",
        "      probabilities[classValue]*=calculateProbability(x,mean,stdv)\r\n",
        "   return probabilities    "
      ],
      "execution_count": null,
      "outputs": []
    },
    {
      "cell_type": "code",
      "metadata": {
        "id": "CNmecj0mDOro"
      },
      "source": [
        "def predict(sumaries,inputVector):\r\n",
        "  probabilities=calculateClassProbabilities(sumaries,inputVector)\r\n",
        "  bestLabel,bestProb=None,-1\r\n",
        "  for classValue,probability in probabilities.items():\r\n",
        "    bestProb = probability\r\n",
        "    bestLabel=classValue\r\n",
        "  return bestLabel  "
      ],
      "execution_count": 12,
      "outputs": []
    },
    {
      "cell_type": "code",
      "metadata": {
        "id": "94zqHG8EEDEX"
      },
      "source": [
        "def getPredictions(sumaries,testSet):\r\n",
        "  predictions=[]\r\n",
        "  for i in range(len(testSet)):\r\n",
        "    result= predict(sumaries,testSet[i])\r\n",
        "    predictions.append(result)\r\n",
        "  return predictions  "
      ],
      "execution_count": 13,
      "outputs": []
    },
    {
      "cell_type": "code",
      "metadata": {
        "id": "rO693BWYE7rt"
      },
      "source": [
        "def getAccuracy(testSet,predictions):\r\n",
        "  correct=0\r\n",
        "  for x in range(len(testSet)):\r\n",
        "    if testSet[x][-1]==predictions[x]:\r\n",
        "      correct+=1\r\n",
        "  return (correct/float(len(testSet)))*100    "
      ],
      "execution_count": 15,
      "outputs": []
    },
    {
      "cell_type": "code",
      "metadata": {
        "colab": {
          "base_uri": "https://localhost:8080/",
          "height": 354
        },
        "id": "-A_BWX_kHqbL",
        "outputId": "270d76c5-4cea-4eb3-a21a-372fae59aa3b"
      },
      "source": [
        "def main():\r\n",
        "  filename='pima-indians-diabetes.data'\r\n",
        "  splitRatio=0.67\r\n",
        "  dataset=loadCsv(filename)\r\n",
        "  trainingSet,testSet=splitDataset(dataset,splitRatio)\r\n",
        "  print('Split {0) rows into train ={1} and test ={2} rows'.format(len(dataset),len(trainingSet),len(testSet)))\r\n",
        "  sumaries=sumarizeByClass(trainingSet)\r\n",
        "  predictions=getPredictions(sumaries,testSet)\r\n",
        "  accuracy=getAccuracy(testSet,predictions)\r\n",
        "  print('Accuracy: {0}%'.format(accuracy))\r\n",
        "\r\n",
        "main()  "
      ],
      "execution_count": 23,
      "outputs": [
        {
          "output_type": "error",
          "ename": "FileNotFoundError",
          "evalue": "ignored",
          "traceback": [
            "\u001b[0;31m---------------------------------------------------------------------------\u001b[0m",
            "\u001b[0;31mFileNotFoundError\u001b[0m                         Traceback (most recent call last)",
            "\u001b[0;32m<ipython-input-23-1a709514108c>\u001b[0m in \u001b[0;36m<module>\u001b[0;34m()\u001b[0m\n\u001b[1;32m     10\u001b[0m   \u001b[0mprint\u001b[0m\u001b[0;34m(\u001b[0m\u001b[0;34m'Accuracy: {0}%'\u001b[0m\u001b[0;34m.\u001b[0m\u001b[0mformat\u001b[0m\u001b[0;34m(\u001b[0m\u001b[0maccuracy\u001b[0m\u001b[0;34m)\u001b[0m\u001b[0;34m)\u001b[0m\u001b[0;34m\u001b[0m\u001b[0;34m\u001b[0m\u001b[0m\n\u001b[1;32m     11\u001b[0m \u001b[0;34m\u001b[0m\u001b[0m\n\u001b[0;32m---> 12\u001b[0;31m \u001b[0mmain\u001b[0m\u001b[0;34m(\u001b[0m\u001b[0;34m)\u001b[0m\u001b[0;34m\u001b[0m\u001b[0;34m\u001b[0m\u001b[0m\n\u001b[0m",
            "\u001b[0;32m<ipython-input-23-1a709514108c>\u001b[0m in \u001b[0;36mmain\u001b[0;34m()\u001b[0m\n\u001b[1;32m      2\u001b[0m   \u001b[0mfilename\u001b[0m\u001b[0;34m=\u001b[0m\u001b[0;34m'pima-indians-diabetes.data'\u001b[0m\u001b[0;34m\u001b[0m\u001b[0;34m\u001b[0m\u001b[0m\n\u001b[1;32m      3\u001b[0m   \u001b[0msplitRatio\u001b[0m\u001b[0;34m=\u001b[0m\u001b[0;36m0.67\u001b[0m\u001b[0;34m\u001b[0m\u001b[0;34m\u001b[0m\u001b[0m\n\u001b[0;32m----> 4\u001b[0;31m   \u001b[0mdataset\u001b[0m\u001b[0;34m=\u001b[0m\u001b[0mloadCsv\u001b[0m\u001b[0;34m(\u001b[0m\u001b[0mfilename\u001b[0m\u001b[0;34m)\u001b[0m\u001b[0;34m\u001b[0m\u001b[0;34m\u001b[0m\u001b[0m\n\u001b[0m\u001b[1;32m      5\u001b[0m   \u001b[0mtrainingSet\u001b[0m\u001b[0;34m,\u001b[0m\u001b[0mtestSet\u001b[0m\u001b[0;34m=\u001b[0m\u001b[0msplitDataset\u001b[0m\u001b[0;34m(\u001b[0m\u001b[0mdataset\u001b[0m\u001b[0;34m,\u001b[0m\u001b[0msplitRatio\u001b[0m\u001b[0;34m)\u001b[0m\u001b[0;34m\u001b[0m\u001b[0;34m\u001b[0m\u001b[0m\n\u001b[1;32m      6\u001b[0m   \u001b[0mprint\u001b[0m\u001b[0;34m(\u001b[0m\u001b[0;34m'Split {0) rows into train ={1} and test ={2} rows'\u001b[0m\u001b[0;34m.\u001b[0m\u001b[0mformat\u001b[0m\u001b[0;34m(\u001b[0m\u001b[0mlen\u001b[0m\u001b[0;34m(\u001b[0m\u001b[0mdataset\u001b[0m\u001b[0;34m)\u001b[0m\u001b[0;34m,\u001b[0m\u001b[0mlen\u001b[0m\u001b[0;34m(\u001b[0m\u001b[0mtrainingSet\u001b[0m\u001b[0;34m)\u001b[0m\u001b[0;34m,\u001b[0m\u001b[0mlen\u001b[0m\u001b[0;34m(\u001b[0m\u001b[0mtestSet\u001b[0m\u001b[0;34m)\u001b[0m\u001b[0;34m)\u001b[0m\u001b[0;34m)\u001b[0m\u001b[0;34m\u001b[0m\u001b[0;34m\u001b[0m\u001b[0m\n",
            "\u001b[0;32m<ipython-input-20-c49c847594a4>\u001b[0m in \u001b[0;36mloadCsv\u001b[0;34m(filename)\u001b[0m\n\u001b[1;32m      3\u001b[0m \u001b[0;32mimport\u001b[0m \u001b[0mrandom\u001b[0m\u001b[0;34m\u001b[0m\u001b[0;34m\u001b[0m\u001b[0m\n\u001b[1;32m      4\u001b[0m \u001b[0;32mdef\u001b[0m \u001b[0mloadCsv\u001b[0m\u001b[0;34m(\u001b[0m\u001b[0mfilename\u001b[0m\u001b[0;34m)\u001b[0m\u001b[0;34m:\u001b[0m\u001b[0;34m\u001b[0m\u001b[0;34m\u001b[0m\u001b[0m\n\u001b[0;32m----> 5\u001b[0;31m   \u001b[0mlines\u001b[0m\u001b[0;34m=\u001b[0m\u001b[0mcsv\u001b[0m\u001b[0;34m.\u001b[0m\u001b[0mreader\u001b[0m\u001b[0;34m(\u001b[0m\u001b[0mopen\u001b[0m\u001b[0;34m(\u001b[0m\u001b[0;34mr'C:\\Users\\shashank singh\\Desktop\\diabetes.csv'\u001b[0m\u001b[0;34m)\u001b[0m\u001b[0;34m)\u001b[0m\u001b[0;34m\u001b[0m\u001b[0;34m\u001b[0m\u001b[0m\n\u001b[0m\u001b[1;32m      6\u001b[0m   \u001b[0mdataset\u001b[0m\u001b[0;34m=\u001b[0m\u001b[0mlist\u001b[0m\u001b[0;34m(\u001b[0m\u001b[0mlines\u001b[0m\u001b[0;34m)\u001b[0m\u001b[0;34m\u001b[0m\u001b[0;34m\u001b[0m\u001b[0m\n\u001b[1;32m      7\u001b[0m   \u001b[0;32mfor\u001b[0m \u001b[0mi\u001b[0m \u001b[0;32min\u001b[0m \u001b[0mrange\u001b[0m\u001b[0;34m(\u001b[0m\u001b[0mlen\u001b[0m\u001b[0;34m(\u001b[0m\u001b[0mdataset\u001b[0m\u001b[0;34m)\u001b[0m\u001b[0;34m)\u001b[0m\u001b[0;34m:\u001b[0m\u001b[0;34m\u001b[0m\u001b[0;34m\u001b[0m\u001b[0m\n",
            "\u001b[0;31mFileNotFoundError\u001b[0m: [Errno 2] No such file or directory: 'C:\\\\Users\\\\shashank singh\\\\Desktop\\\\diabetes.csv'"
          ]
        }
      ]
    }
  ]
}